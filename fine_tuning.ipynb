{
 "nbformat": 4,
 "nbformat_minor": 0,
 "metadata": {
  "colab": {
   "provenance": [],
   "machine_shape": "hm",
   "gpuType": "A100",
   "generative_ai_disabled": true
  },
  "kernelspec": {
   "name": "python3",
   "display_name": "Python 3"
  },
  "language_info": {
   "name": "python"
  },
  "accelerator": "GPU"
 },
 "cells": [
  {
   "cell_type": "markdown",
   "source": [
    "# 1. Install and import packages / Project configuration"
   ],
   "metadata": {
    "id": "jLmBMDQMHltz"
   }
  },
  {
   "cell_type": "code",
   "execution_count": 1,
   "metadata": {
    "colab": {
     "base_uri": "https://localhost:8080/"
    },
    "id": "fe59xNHEppbR",
    "outputId": "8a8a1bb6-4419-480e-fb7b-11935fd83268"
   },
   "outputs": [
    {
     "output_type": "stream",
     "name": "stdout",
     "text": [
      "\u001b[2K     \u001b[90m━━━━━━━━━━━━━━━━━━━━━━━━━━━━━━━━━━━━━━━━\u001b[0m \u001b[32m42.0/42.0 kB\u001b[0m \u001b[31m1.8 MB/s\u001b[0m eta \u001b[36m0:00:00\u001b[0m\n",
      "\u001b[2K   \u001b[90m━━━━━━━━━━━━━━━━━━━━━━━━━━━━━━━━━━━━━━━━\u001b[0m \u001b[32m11.3/11.3 MB\u001b[0m \u001b[31m121.8 MB/s\u001b[0m eta \u001b[36m0:00:00\u001b[0m\n",
      "\u001b[2K   \u001b[90m━━━━━━━━━━━━━━━━━━━━━━━━━━━━━━━━━━━━━━━━\u001b[0m \u001b[32m61.3/61.3 MB\u001b[0m \u001b[31m40.5 MB/s\u001b[0m eta \u001b[36m0:00:00\u001b[0m\n",
      "\u001b[2K   \u001b[90m━━━━━━━━━━━━━━━━━━━━━━━━━━━━━━━━━━━━━━━━\u001b[0m \u001b[32m504.9/504.9 kB\u001b[0m \u001b[31m35.7 MB/s\u001b[0m eta \u001b[36m0:00:00\u001b[0m\n",
      "\u001b[2K   \u001b[90m━━━━━━━━━━━━━━━━━━━━━━━━━━━━━━━━━━━━━━━━\u001b[0m \u001b[32m511.9/511.9 kB\u001b[0m \u001b[31m40.5 MB/s\u001b[0m eta \u001b[36m0:00:00\u001b[0m\n",
      "\u001b[?25h"
     ]
    }
   ],
   "source": [
    "# Install packages\n",
    "!pip install -q -U transformers datasets accelerate bitsandbytes peft trl"
   ]
  },
  {
   "cell_type": "code",
   "source": [
    "# Imports\n",
    "import torch, random\n",
    "from huggingface_hub import login\n",
    "from datasets import load_dataset, DatasetDict\n",
    "from transformers import AutoTokenizer, AutoModelForCausalLM, BitsAndBytesConfig, TrainingArguments\n",
    "from peft import LoraConfig, get_peft_model, prepare_model_for_kbit_training, PeftModel, AutoPeftModelForCausalLM\n",
    "from trl import SFTTrainer\n",
    "from google.colab import userdata\n",
    "import pandas as pd\n",
    "import matplotlib.pyplot as plt"
   ],
   "metadata": {
    "id": "QEdqi09rp6BW"
   },
   "execution_count": 8,
   "outputs": []
  },
  {
   "cell_type": "code",
   "source": [
    "# Get the token from Colab's secret manager\n",
    "hf_token = userdata.get('hf_token')\n",
    "\n",
    "# Log in to Hugging Face programmatically\n",
    "login(token=hf_token)"
   ],
   "metadata": {
    "id": "Lb6hTj82pvMN"
   },
   "execution_count": 3,
   "outputs": []
  },
  {
   "cell_type": "markdown",
   "source": [
    "# 2. Dataset Loading and Preparation"
   ],
   "metadata": {
    "id": "wTZGQvP7IUAY"
   }
  },
  {
   "cell_type": "code",
   "source": [
    "dataset_file = 'fine-tuning-dataset.json'\n",
    "\n",
    "# Load dataset\n",
    "full_dataset = load_dataset('json', data_files=dataset_file, split='train', encoding='UTF-8')\n",
    "\n",
    "# Shuffle the dataset for randomness\n",
    "shuffled_dataset = full_dataset.shuffle(seed=42)\n",
    "\n",
    "# Split the dataset into 90% for training and 10% for validation\n",
    "split_dataset = shuffled_dataset.train_test_split(test_size=0.1)\n",
    "\n",
    "# Create a Dataset ditionary to keep the splits\n",
    "dataset = DatasetDict({\n",
    "    'train': split_dataset['train'],\n",
    "    'test': split_dataset['test']\n",
    "})\n",
    "\n",
    "print(dataset)"
   ],
   "metadata": {
    "id": "yyGJLSfrp46b",
    "colab": {
     "base_uri": "https://localhost:8080/",
     "height": 223,
     "referenced_widgets": [
      "2ee5657aacc7494e8ca1133255c29169",
      "0c9871e9c8df4bb8ba6908fc14faa6bf",
      "b1937a6101d946c391b1e7275c82b450",
      "3cc2b91e5c7b4ce9b594aa3213c4d3ca",
      "f43effc0ce86450fad35d2f99ed5833a",
      "ed0a94faca654e48ae9d1721ad5efb3c",
      "fd7d4b76cd204ffe8406618749c93fc5",
      "1ddaf258d62b43558a5f9ce43f3cb820",
      "6d4d967e0bc24146a290eb864b41a619",
      "1fa37369a66744f78a2a6f7a1e089bba",
      "210031d06f2f4bfb8a85fbe1d8082638"
     ]
    },
    "outputId": "69ec28a5-f6fd-413c-fbc3-86aeac3f22dc"
   },
   "execution_count": 4,
   "outputs": [
    {
     "output_type": "display_data",
     "data": {
      "text/plain": [
       "Generating train split: 0 examples [00:00, ? examples/s]"
      ],
      "application/vnd.jupyter.widget-view+json": {
       "version_major": 2,
       "version_minor": 0,
       "model_id": "2ee5657aacc7494e8ca1133255c29169"
      }
     },
     "metadata": {}
    },
    {
     "output_type": "stream",
     "name": "stdout",
     "text": [
      "DatasetDict({\n",
      "    train: Dataset({\n",
      "        features: ['instruction', 'input', 'output', 'explanation'],\n",
      "        num_rows: 1705\n",
      "    })\n",
      "    test: Dataset({\n",
      "        features: ['instruction', 'input', 'output', 'explanation'],\n",
      "        num_rows: 190\n",
      "    })\n",
      "})\n"
     ]
    }
   ]
  },
  {
   "cell_type": "code",
   "source": [
    "# This function formats each example into a single string with the required prompt structure\n",
    "def format_dataset(example):\n",
    "    text = f\"### Instruction:\\n{example['instruction']}\\n\\n### Input:\\n{example['input']}\\n\\n### Output:\\n{example['output']}\"\n",
    "    return {\"text\": text}\n",
    "\n",
    "# Apply this function to the train and test splits\n",
    "formatted_train_dataset = dataset['train'].map(format_dataset)\n",
    "formatted_test_dataset = dataset['test'].map(format_dataset)"
   ],
   "metadata": {
    "colab": {
     "base_uri": "https://localhost:8080/",
     "height": 81,
     "referenced_widgets": [
      "40702dbc86fa4df7a90e3bbe652ef4fe",
      "676a7ab49e874198b573ab3bf8df0fe4",
      "661095efdf5c4c9bb2ae8a0e4b655c26",
      "033235797d844bbb8c028ff77c68a0cf",
      "173a9378bc1d441c9fcf342b5f5e5a00",
      "69508b00a2ae4678a829a2d0393bcd8c",
      "b2323f68c528420d9dd3b99852c76a59",
      "54d05510720c4cf3820b5ac28b804411",
      "9d1d65ff84de45d79f030846e6af4971",
      "87255ee929c841d3a74db138b4d967eb",
      "e536f2f082ea4f1fa9a419a20af42d17",
      "a290e22f19c7482b8846cce109a045a2",
      "ba6a982472444d27ae01ca6ffe2161da",
      "bc37035212714818a3c94fe0e0db8fd7",
      "56a86a1e6ffa42f790958e5359e37f17",
      "168d6d8fef0e4d3887664a78e7f3026e",
      "2ce15838252141918caac57a874ce042",
      "a1335e097d254344891d0b46ee25f207",
      "4db50ea8ebf54e3084ec1ecb8dd0ca60",
      "c211bfc33b3f4d829787fec8caaa37b4",
      "0ae641c59b514ff5b28e18e3514b29a0",
      "5b7caac0789941c98787d118107b7964"
     ]
    },
    "id": "HLOR6nGxXLh1",
    "outputId": "85e3caff-a2f7-4edb-f28b-5b3afb557c11"
   },
   "execution_count": 5,
   "outputs": [
    {
     "output_type": "display_data",
     "data": {
      "text/plain": [
       "Map:   0%|          | 0/1705 [00:00<?, ? examples/s]"
      ],
      "application/vnd.jupyter.widget-view+json": {
       "version_major": 2,
       "version_minor": 0,
       "model_id": "40702dbc86fa4df7a90e3bbe652ef4fe"
      }
     },
     "metadata": {}
    },
    {
     "output_type": "display_data",
     "data": {
      "text/plain": [
       "Map:   0%|          | 0/190 [00:00<?, ? examples/s]"
      ],
      "application/vnd.jupyter.widget-view+json": {
       "version_major": 2,
       "version_minor": 0,
       "model_id": "a290e22f19c7482b8846cce109a045a2"
      }
     },
     "metadata": {}
    }
   ]
  },
  {
   "cell_type": "markdown",
   "source": [
    "# 3. Model Configuration and Fine-Tuning\n",
    "\n",
    "Core of the script where the model is configured and the fine-tuning process is executed.\n",
    "\n",
    "**Model Selection:** It specifies the base model to be fine-tuned, mistralai/Mistral-7B-Instruct-v0.3.\n",
    "\n",
    "**Quantization:** To run this LLM on the available hardware, 4-bit quantization is used. This reduces the model's memory footprint without a major loss in performance.\n",
    "\n",
    "**LoRA:** Instead of retraining the entire model, LoRA is used to insert small trainable layers.\n",
    "\n",
    "**Training Arguments:** Key hyperparameters for the training process are set.\n",
    "\n",
    "**Training Execution:** The SFTTrainer is initialized with the model, datasets, and training arguments. The trainer.train() command starts the fine-tuning process."
   ],
   "metadata": {
    "id": "TxPbi1tGN24e"
   }
  },
  {
   "cell_type": "code",
   "source": [
    "# Model and training configuration\n",
    "base_model = \"mistralai/Mistral-7B-Instruct-v0.3\"\n",
    "output_dir = \"Mistral-7B-Instruct-german-level-tuner\"  # Where to save the new fine-tuned model locally\n",
    "\n",
    "# Define the name for the model on Hugging Face\n",
    "hf_model_ID = \"AlbertoB12/Mistral-7B-Instruct-german-level-tuner\"\n",
    "\n",
    "# Configure quantization to load the model in 4-bit\n",
    "bnb_config = BitsAndBytesConfig(\n",
    "    load_in_4bit=True,\n",
    "    bnb_4bit_quant_type=\"nf4\",\n",
    "    bnb_4bit_compute_dtype=torch.bfloat16\n",
    ")\n",
    "\n",
    "# Load the base model and Tokenizer\n",
    "model = AutoModelForCausalLM.from_pretrained(\n",
    "    base_model,\n",
    "    quantization_config=bnb_config,  # Apply quantization configuration\n",
    "    device_map=\"auto\"  # Automatically place layers on GPU/CPU\n",
    ")\n",
    "\n",
    "# Load tokenizer and tokenizer options\n",
    "tokenizer = AutoTokenizer.from_pretrained(base_model)\n",
    "tokenizer.padding_side = 'right'\n",
    "tokenizer.pad_token = tokenizer.eos_token\n",
    "\n",
    "# Configure LoRA\n",
    "model = prepare_model_for_kbit_training(model)\n",
    "lora_config = LoraConfig(\n",
    "    r=64,  # Rank of the update matrices\n",
    "    lora_alpha=128,\n",
    "    lora_dropout=0.05,\n",
    "    bias=\"none\",\n",
    "    task_type=\"CAUSAL_LM\",\n",
    "    # Target the attention modules of the Gemma model\n",
    "    target_modules=[\"q_proj\", \"k_proj\", \"v_proj\", \"o_proj\", \"gate_proj\", \"up_proj\", \"down_proj\"]\n",
    ")\n",
    "model = get_peft_model(model, lora_config)\n",
    "\n",
    "# Set training arguments\n",
    "training_args = TrainingArguments(\n",
    "    output_dir=output_dir,\n",
    "    num_train_epochs=3,\n",
    "    per_device_train_batch_size=16,\n",
    "    gradient_accumulation_steps=1,\n",
    "    learning_rate=2e-5,\n",
    "    logging_steps=20,  # Log training loss every 20 steps\n",
    "    save_strategy=\"steps\",\n",
    "    eval_strategy=\"steps\",\n",
    "    eval_steps=20,  # Evaluate every 20 steps\n",
    "    lr_scheduler_type=\"cosine\",\n",
    "    warmup_ratio=0.1,\n",
    "    weight_decay=0.01,\n",
    "    do_eval=True,\n",
    "    report_to=\"none\",\n",
    "    push_to_hub=True,\n",
    "    hub_model_id=hf_model_ID,\n",
    "    hub_private_repo=True  # Keep model first private\n",
    ")\n",
    "\n",
    "# Initialize the trainer\n",
    "trainer = SFTTrainer(\n",
    "    model=model,\n",
    "    train_dataset=formatted_train_dataset,\n",
    "    eval_dataset=formatted_test_dataset,\n",
    "    peft_config=lora_config,\n",
    "    args=training_args,\n",
    ")\n",
    "\n",
    "# Start the fine-tuning\n",
    "trainer.train()\n",
    "\n",
    "# Save the final model\n",
    "print(f\"Saving fine-tuned model to '{output_dir}'...\")\n",
    "trainer.save_model(output_dir)\n",
    "print(\"Model saved successfully.\")"
   ],
   "metadata": {
    "id": "aCmKhx_2qXN3",
    "colab": {
     "base_uri": "https://localhost:8080/",
     "height": 1000,
     "referenced_widgets": [
      "0f5ce718e73f47b5b0cf1f7327bfef2d",
      "10374caedf8a469ca51e84e2f7a8c60f",
      "7bdb3d0dc87d4c88804582f86eed8b9e",
      "27b39f67af764622aa09a7ad8c7aad7e",
      "0ba007a603ba49bab0f64355a4f4758a",
      "e6d10bf5640140faafb8412e933e2d7a",
      "87ac06a8f4cd4ab0a4ac47ebab41bd19",
      "58c187608d094dd88c673b45df546bd4",
      "fc2793913f8d450985ddd48c10271f09",
      "2e82e02e084c47cca6fa3ad0029b2b50",
      "f0742b6f408644e889d1ac5c2346d654",
      "c39f11e62e02416d9698fb767c786042",
      "339e5ddf739940d3a8f7fc3cb0824cd5",
      "53f074c0cf0d4cfe9d0e420445447750",
      "2f17c07a45a24db9832596b102faf95b",
      "beed6b44a1094f40b7c500dbbbfc69fd",
      "88dac39af3eb4498b17b304f31f0f784",
      "fb72170c507b4f9a9e12ab68af9ee161",
      "718ea679d1814f59a8a6209b1f28f42b",
      "67cf09af3bf841b8aaa79051ab2ac728",
      "513c8c2ae81e4b0085635eb80a1f5ff4",
      "196738dfc783475fbd2008ab7ea5c2c2",
      "0a9e213ee37b417f9620e62f41da1061",
      "2e9edd5d36674b4ebd9d020634534098",
      "e2ed0f43a4d9491d8c1167bd351e85c0",
      "b19708c8d1154405903df7c29e215e95",
      "c097715511bb4005bf588f191ff2848a",
      "77c41e2cf562478cb6df9386d38bef95",
      "2bdb714a01c14ad797ee8a20b05e33c2",
      "6c92cebd0e4541c3a6cc72daaac3939b",
      "340ed432b71b447db9cad2b9fb0428a1",
      "5aec0f07a4834cd3aa0c2c9a158a1452",
      "5d05543a60a6498d8c28c4ae0d11f274",
      "6c3bd4b7e9714dc9a2703525b1519202",
      "1f882a79ca8343a1a5396c342c2e1455",
      "06c40589ed5d408daf80a478eedd36f7",
      "6e39dfda703b482fbea180412bb055a6",
      "e4cef1a2389d449c97665da9c5f20e39",
      "bc65cd6cbaed4d59a4952fab434032e7",
      "8f1ca09c3bdf4cf7846e1e37899a7d3e",
      "0dcfaaa6135946769c3d624fe09b2aae",
      "d1ae0620c73546aea39dd10139c130b9",
      "6e68308bb52b42af961930ea215a5b36",
      "178615027cd54b87a37fac5c9d433cae",
      "8eca630c1a7742a28ef2dc7bfb28e6d2",
      "1afd8a76ef6c4e4b95e02f07ddaae0a3",
      "c1955db51792411ba21165a2a218939f",
      "a9fa913f77974e4091de7e21c428337f",
      "29a4153eb81e43d0938f78e1e582e5e5",
      "dadc8f2dade54926b7f493981886b71a",
      "6a6d04fead644477886df89907c61d33",
      "aaa10b69595640eea54510256ae5a688",
      "5e70af7c812b407e8ffda0812143a735",
      "58655e1e132849619e23de8bd8a26abc",
      "2a473e3c62aa4d3f85c9260b7dd20a98",
      "034ae0eaaba940ea92e0a14d25ce074f",
      "e0862a8354ae46d397b8394f3d9097d5",
      "d6857d5ecab14987860c79bce7475b20",
      "6dfc5d04ccfd43738a6baf1fdce39ed9",
      "5cffd27e926c4a439a79049e2b2d80b6",
      "6ac03e64c1764956976ea0498af17a55",
      "f1ff57fede5941b7b54f76acb7ee4a1e",
      "b77720948e424a0fbe2e897fdc1a9b47",
      "167158bf80a544c2a4bba118ad754be3",
      "956a08351592482087f25e7b79d8a0fe",
      "fca2d09bf15848abaa3f0fb7ce5085a2",
      "9b151ce6ed6744dd9cd1cbfcab2ce280",
      "1c3a10a09ec849a7bd586c090b45a2d5",
      "05f896d878db4ba390d236ac301b2b0c",
      "a6e685147f494775bc1c28a402ea9364",
      "cf3e5d07e7684992ab2d9dd85e982df3",
      "fef37d6a4a644bfcbbac3a0bc8d2db39",
      "1d2308c6f7424eb08f5031610abde1a3",
      "0cccafdeec7a4987996436bd2b9e40a2",
      "03fd8868503d458a9092e6bca3df79f3",
      "13a490071ae545ed845a5823c89ac3da",
      "7a5c1b78b38142a69e53a8b4d1b4e6ac",
      "1ed89cfe85ad4b4a8aebc5b09dc50a3a",
      "5b87bb99cddf455f92e26548831c5424",
      "0c81edffa2d54dbfa94f2ba44e761d65",
      "2f24dfc239934014aae1a63ad37bcfff",
      "4d86510aa659461bb3717145a8e15a06",
      "2ee8135e23674bcfb0534756552fac09",
      "20b0e977c08145e6a4d61ae644a8a813",
      "04668c4914d6472aa106e2f25b403883",
      "8186d09108d84748a4cf9962ad672763",
      "b2c4ec335919452d84d834986df4dea7",
      "55eb31a7b04549059efd32a0fcb7c265",
      "17eb1059b13b4aed92813b22d8ffc386",
      "2983f16d012648e9aed6d160f038f64a",
      "4307cc51c466434992cfced7d4188d1b",
      "6cccdc8249c24b7488c8c4a57318d5c2",
      "59940999c4f840adb71f633ce45210bd",
      "b9fe40de284e4eb0ac5e3e5a9ee5c1e0",
      "8ef5360298b840f49501b849c4003352",
      "d4f74982da094bc3b2522c78f516a658",
      "3cc1b3fe6a8649528c6777def3344d59",
      "fc61bdb1d8364c62ad55a48d4e1ba19e",
      "33b300237fa34de5981fa3139f36f882",
      "b0040114a1804ba195b1a479e599b4d7",
      "e9fc363d0434448caa5acb595a43223e",
      "e98ee5f26099428db23a224f276e34a6",
      "88543e028e23468cb318e86beb9f6967",
      "eea408adb41a4fa49c26bc0fd9d1c799",
      "f26b4c13b75a4a5fb9cef633e9e9442e",
      "42d32dd583014139afe5059dc542ddb2",
      "0581a5e096a3449c8fd0198363ea0d0b",
      "cc3b67c17bdb418f9bca113b3a44ddd2",
      "fb89174be5c04aaba6f6c605537e63fa",
      "106e7d6ef5a14957bd59f7cdff0cf878",
      "88e908c5a8ad48a28bc34567dd3bcc0c",
      "d436b601df874f5f8c4c24f1593587a9",
      "d28cef7d1e6f448d9aec2df9b66e37eb",
      "d5b13d1b09124c91b9ccf1744a8b670d",
      "932fdaeb8d8e4ae38930657087d67901",
      "d92ead2f2c2341798f2d4f1bae4e78b9",
      "bfdb2d38df2b4f1c837b5fd5011a3105",
      "46e86492017e48b2888dd6a719a73a8c",
      "eebb82439965423d863b748d44bbe38e",
      "aac2bdcb8fa74a51b59d1ba5d314726e",
      "406decd1102d40bc884b1df0d44e1be0",
      "0b77bf27a84246f6b9b458bdb0792767",
      "38dd0dee4fc44b638c1b3aa5088b5e02",
      "35a532427d0c4be88d0f74ce8cc1992c",
      "8d83072372d849739479c7e324955cc6",
      "d43acd2cdde4488da08f15635cd426d5",
      "a7afba224a96406c8403c5bfb11fa605",
      "85f4bf792ef747f78ca1cf2fdeba031d",
      "d96d0517d4654274b6d6da0a8e4fba8e",
      "c4a4e1addbfc4d7c820b0a5c2a1dbb42",
      "26e477db411945f1861a52dd1132c4f8",
      "ef52b3833fa74a5eb1031c58cb2f908b",
      "8315b5c1e8c044a5a29ff31d3821d37a",
      "66a3eb4d18c345b3946f897acf1ceb5b",
      "85b3604f8a2b494cbeb87c914b2a4a96",
      "7bf7e258c24b403cb39cd2db542e3859",
      "e54f6c1763404ac2947d198c540fd3a4",
      "4e10c986b9e54c2c876181103ac67d0a",
      "b1f160e8274d4ae59db9df5241a53f01",
      "96c4b18f46b043c88725e2eeba7425ea",
      "bd4a2c494b4449b78ef386a53b342c9e",
      "d6689228e2b64685a158daf5207db5b6",
      "475baf95d7be486a8029c34a5f9ebafe",
      "81573871b7c64f8f900b35dea001ffca",
      "2380d708c4e343859611278e303a921c",
      "228a63f90a294e968e669ea290ba7492",
      "84ef873463d9494eb15c52a0a31d82b0",
      "4db63f1b90fc4671ab12bdce519ee650",
      "7f416681c53b4643a94263e309882689",
      "85a53e5ea7d540ea8c5ee7be2b240a5b",
      "1966d79e344e45f3b64654a831e9c15c",
      "78ba76df62f14191bbc8152fdc3a842a",
      "8d4f306112344d0ba48ed9b30b3565d5",
      "a8b787347a154390af3182a4b7b55b2d",
      "4a56bc16b9ab4745af235603aed0526b",
      "a27d48aae14744c8807e396a7827c351",
      "0f6a479aca7742889f5507ea4f4e72c5",
      "30b83ed8797f443eb09dcc4dc6d89656",
      "9d1e40cc82584fdb8c0e41af8c878a4c",
      "c28af738e46446fe899bbfe6738aa1fe",
      "0e1d7cc50b3049eaa4a3e077cf75df0e",
      "c36f9349dd6f435aa3e479be55a9c34c",
      "1423e9215cc6418f9e5af17673ce7460",
      "06f7fea38fb245c2a4023b3d69e7a39f",
      "74ec03d3250740129cdb1d42eb635003",
      "adfe5160517d40b39003f552a9967879",
      "b782a50f0bc14d338928fe864bbecc40",
      "551b60f277a54f028db64c023bd20e9a",
      "f552a3d3f91748739cf1ebef05d52db9",
      "ed98e8ec64764d46b3a4631c3eecc2c2",
      "6662b1bac85341839126db2e99abd446",
      "bffdec619539476bb372ca593123090d",
      "57ddc42283294f40a7319346bebb8383",
      "f164f5c42de449968990ac4ea07eb9f1",
      "49518a21543545ca85560f28c05c5841",
      "4aeca75454e54172b2d50c2499ad317f",
      "57b7374814fe44fca0a49d22f70b763b",
      "33e64e738d05406bb2e322c58048db57",
      "10ef8f44ea884fa6b01302595fb8f0c4",
      "3628e49723fb430f9efa18eb3a13b2ab",
      "f87173f6e48d4d058489418d09d2bf89",
      "4a1e11d7fd584909acc0e991223bf7de",
      "d74ab95947c9485fb6735ccf29808570",
      "a49059167e904cffbb08f0f907a1143d",
      "a93d2502df3e4a308cc72c9433e702cb",
      "187cf4a4653b4924b20b96f628990ce3",
      "d086accc2a0944c7b0ed9e6735a81821",
      "165653efc07b48cc9e272cd5e246b559",
      "ad59ef748d994ccebe889170db01df4d",
      "15f0043c4b44495aafca49d2ecb5a77c",
      "9030e7530a0b4ee8984bc52f5fa645a0",
      "2d994b0cee6349f9b8c6f1e5783ae7ef",
      "0dc654938df946618ac9f15fce5659ea",
      "cbcbd21db80848368fcd1146c6caca80",
      "2ef26f794aa04e11851817d8cac72e3f",
      "367b288f5bdf4955b8942b1f8b8d9017",
      "4c5e8b3d0c3c467fa8ccd0d049e1c4c9",
      "bcfa7e9ccaac43c0bdfbabeac4b53a32",
      "746e6bf4c26441638e9b790f8bd67999",
      "d3eba4442ed64c0eb250505e7f9c85cf",
      "b2acf6b3162d440686d6a9046a2cc4a0",
      "3e90390a6da445409b787f026bbf0cf0",
      "9bdebfe8de584a308c4411edce458bfc",
      "6b45e84269cd49918625e2904bce1116",
      "3b59768248124c96aa0a0433ed1864c2",
      "42d812c3aee049938d025de77b9846fa",
      "d07f9bc1a56d47cfbfad22379bffdfb4",
      "65e7a9a97b584237b168fd517ccbb122",
      "d38c420672984714a17d8de240d269c3",
      "7fb9a92f699c4afab2e84dc9982873c6",
      "bb3b05ac58c44f399ab3a06b44fc6fa9",
      "b724b428d75a4409a987fa43ca99601d",
      "70f477a606604042b3ca63e9fe888042",
      "98cfc26bf44c4cc68ff439638fd95b16",
      "733c97bac7de4cd5be946ddd502c8aa1",
      "33ce9e0236db4f46b6ba0c806bb50e54",
      "3a50b86d0e404048b66fdd0e105ebf82",
      "e088983360f443919a6bbe4bbe5c061c",
      "8533d80f9f42440d865aedfd6ea2474c",
      "ea2e636c3f4a405dbdc10c531c643062",
      "064bc926e0f74460911a2534a807d393",
      "2b929d4a10cb473fa3b8243c8faa4d29",
      "1115ed2a1d72420bbc8c609154084c6a",
      "a8736427a64a44b5a15d2918446ff59c",
      "331628615cd848f197a710e50a50f79e",
      "0150d025f04d4835b6a2d68dd159232e",
      "8d53a31eeba64c4281b88c9d696cb443",
      "ae0012e5aa0946e58a833f6c224a2c54",
      "4d83bee2fcc741edb569b633057e73cf",
      "0fd28fa77e064686ba9a80bd85d4ca03",
      "e611dc10111e494d864bd8cfb77d8c7e",
      "afc939cf16d04c9896e23381ee9563cc",
      "5f3801ab209148028f7922afed4521e4",
      "06e3653c94d9439996587d7403bda44c",
      "c5b7fa70170943678de2f7d17399785d",
      "cc9bd9b4034d4288baaf4100dc5471db",
      "95bf89d44c844193a035307d1cea6529",
      "e3ca508f44a246f09d7fe30ee29ab526",
      "078580fe3f2241dca6502cacfa83bfbf",
      "af2fb7cf20b7470daa78b7e2760fe5cd",
      "b0dbe03517504fee9ab8d66ae809a0f7",
      "970cce5c12714761b3f12635d60c962c",
      "06fe53725ca64effac69689daf72c696",
      "0d4c4e253a9248d396311ada6adcce48",
      "459b6c9214a74ea591ae3da860d637e9",
      "4ba34f075f854473a3dfc79d6285a38b",
      "cb756141527f48378ccece655de6c7b7",
      "a78d9646383c4e43b449997956368de5",
      "3618c383d7b5400086ecb40bef45ec94",
      "17be3f927b3f4e1ba18554c154ce9d7f",
      "b91a59b233c149aea7f95f74fe86c181",
      "08aa37d409dd4b00bfa91ac97252c92f",
      "fa15fc10e8e045258705fccee42aa1f7"
     ]
    },
    "outputId": "de775ed3-08a5-4fcb-ce77-dbb468a466e8"
   },
   "execution_count": 6,
   "outputs": [
    {
     "output_type": "stream",
     "name": "stderr",
     "text": [
      "/usr/local/lib/python3.12/dist-packages/huggingface_hub/utils/_auth.py:94: UserWarning: \n",
      "The secret `HF_TOKEN` does not exist in your Colab secrets.\n",
      "To authenticate with the Hugging Face Hub, create a token in your settings tab (https://huggingface.co/settings/tokens), set it as secret in your Google Colab and restart your session.\n",
      "You will be able to reuse this secret in all of your notebooks.\n",
      "Please note that authentication is recommended but still optional to access public models or datasets.\n",
      "  warnings.warn(\n"
     ]
    },
    {
     "output_type": "display_data",
     "data": {
      "text/plain": [
       "config.json:   0%|          | 0.00/601 [00:00<?, ?B/s]"
      ],
      "application/vnd.jupyter.widget-view+json": {
       "version_major": 2,
       "version_minor": 0,
       "model_id": "0f5ce718e73f47b5b0cf1f7327bfef2d"
      }
     },
     "metadata": {}
    },
    {
     "output_type": "display_data",
     "data": {
      "text/plain": [
       "model.safetensors.index.json:   0%|          | 0.00/23.9k [00:00<?, ?B/s]"
      ],
      "application/vnd.jupyter.widget-view+json": {
       "version_major": 2,
       "version_minor": 0,
       "model_id": "c39f11e62e02416d9698fb767c786042"
      }
     },
     "metadata": {}
    },
    {
     "output_type": "display_data",
     "data": {
      "text/plain": [
       "Fetching 3 files:   0%|          | 0/3 [00:00<?, ?it/s]"
      ],
      "application/vnd.jupyter.widget-view+json": {
       "version_major": 2,
       "version_minor": 0,
       "model_id": "0a9e213ee37b417f9620e62f41da1061"
      }
     },
     "metadata": {}
    },
    {
     "output_type": "display_data",
     "data": {
      "text/plain": [
       "model-00002-of-00003.safetensors:   0%|          | 0.00/5.00G [00:00<?, ?B/s]"
      ],
      "application/vnd.jupyter.widget-view+json": {
       "version_major": 2,
       "version_minor": 0,
       "model_id": "6c3bd4b7e9714dc9a2703525b1519202"
      }
     },
     "metadata": {}
    },
    {
     "output_type": "display_data",
     "data": {
      "text/plain": [
       "model-00003-of-00003.safetensors:   0%|          | 0.00/4.55G [00:00<?, ?B/s]"
      ],
      "application/vnd.jupyter.widget-view+json": {
       "version_major": 2,
       "version_minor": 0,
       "model_id": "8eca630c1a7742a28ef2dc7bfb28e6d2"
      }
     },
     "metadata": {}
    },
    {
     "output_type": "display_data",
     "data": {
      "text/plain": [
       "model-00001-of-00003.safetensors:   0%|          | 0.00/4.95G [00:00<?, ?B/s]"
      ],
      "application/vnd.jupyter.widget-view+json": {
       "version_major": 2,
       "version_minor": 0,
       "model_id": "034ae0eaaba940ea92e0a14d25ce074f"
      }
     },
     "metadata": {}
    },
    {
     "output_type": "display_data",
     "data": {
      "text/plain": [
       "Loading checkpoint shards:   0%|          | 0/3 [00:00<?, ?it/s]"
      ],
      "application/vnd.jupyter.widget-view+json": {
       "version_major": 2,
       "version_minor": 0,
       "model_id": "9b151ce6ed6744dd9cd1cbfcab2ce280"
      }
     },
     "metadata": {}
    },
    {
     "output_type": "display_data",
     "data": {
      "text/plain": [
       "generation_config.json:   0%|          | 0.00/116 [00:00<?, ?B/s]"
      ],
      "application/vnd.jupyter.widget-view+json": {
       "version_major": 2,
       "version_minor": 0,
       "model_id": "1ed89cfe85ad4b4a8aebc5b09dc50a3a"
      }
     },
     "metadata": {}
    },
    {
     "output_type": "display_data",
     "data": {
      "text/plain": [
       "tokenizer_config.json:   0%|          | 0.00/141k [00:00<?, ?B/s]"
      ],
      "application/vnd.jupyter.widget-view+json": {
       "version_major": 2,
       "version_minor": 0,
       "model_id": "17eb1059b13b4aed92813b22d8ffc386"
      }
     },
     "metadata": {}
    },
    {
     "output_type": "display_data",
     "data": {
      "text/plain": [
       "tokenizer.model:   0%|          | 0.00/587k [00:00<?, ?B/s]"
      ],
      "application/vnd.jupyter.widget-view+json": {
       "version_major": 2,
       "version_minor": 0,
       "model_id": "b0040114a1804ba195b1a479e599b4d7"
      }
     },
     "metadata": {}
    },
    {
     "output_type": "display_data",
     "data": {
      "text/plain": [
       "tokenizer.json:   0%|          | 0.00/1.96M [00:00<?, ?B/s]"
      ],
      "application/vnd.jupyter.widget-view+json": {
       "version_major": 2,
       "version_minor": 0,
       "model_id": "88e908c5a8ad48a28bc34567dd3bcc0c"
      }
     },
     "metadata": {}
    },
    {
     "output_type": "display_data",
     "data": {
      "text/plain": [
       "special_tokens_map.json:   0%|          | 0.00/414 [00:00<?, ?B/s]"
      ],
      "application/vnd.jupyter.widget-view+json": {
       "version_major": 2,
       "version_minor": 0,
       "model_id": "0b77bf27a84246f6b9b458bdb0792767"
      }
     },
     "metadata": {}
    },
    {
     "output_type": "stream",
     "name": "stderr",
     "text": [
      "/usr/local/lib/python3.12/dist-packages/peft/mapping_func.py:73: UserWarning: You are trying to modify a model with PEFT for a second time. If you want to reload the model with a different config, make sure to call `.unload()` before.\n",
      "  warnings.warn(\n",
      "/usr/local/lib/python3.12/dist-packages/peft/mapping_func.py:79: UserWarning: The PEFT config's `base_model_name_or_path` was renamed from 'mistralai/Mistral-7B-Instruct-v0.3' to 'None'. Please ensure that the correct base model is loaded when loading this checkpoint.\n",
      "  warnings.warn(\n",
      "/usr/local/lib/python3.12/dist-packages/peft/tuners/tuners_utils.py:196: UserWarning: Already found a `peft_config` attribute in the model. This will lead to having multiple adapters in the model. Make sure to know what you are doing!\n",
      "  warnings.warn(\n"
     ]
    },
    {
     "output_type": "display_data",
     "data": {
      "text/plain": [
       "Adding EOS to train dataset:   0%|          | 0/1705 [00:00<?, ? examples/s]"
      ],
      "application/vnd.jupyter.widget-view+json": {
       "version_major": 2,
       "version_minor": 0,
       "model_id": "8315b5c1e8c044a5a29ff31d3821d37a"
      }
     },
     "metadata": {}
    },
    {
     "output_type": "display_data",
     "data": {
      "text/plain": [
       "Tokenizing train dataset:   0%|          | 0/1705 [00:00<?, ? examples/s]"
      ],
      "application/vnd.jupyter.widget-view+json": {
       "version_major": 2,
       "version_minor": 0,
       "model_id": "81573871b7c64f8f900b35dea001ffca"
      }
     },
     "metadata": {}
    },
    {
     "output_type": "display_data",
     "data": {
      "text/plain": [
       "Truncating train dataset:   0%|          | 0/1705 [00:00<?, ? examples/s]"
      ],
      "application/vnd.jupyter.widget-view+json": {
       "version_major": 2,
       "version_minor": 0,
       "model_id": "4a56bc16b9ab4745af235603aed0526b"
      }
     },
     "metadata": {}
    },
    {
     "output_type": "display_data",
     "data": {
      "text/plain": [
       "Adding EOS to eval dataset:   0%|          | 0/190 [00:00<?, ? examples/s]"
      ],
      "application/vnd.jupyter.widget-view+json": {
       "version_major": 2,
       "version_minor": 0,
       "model_id": "adfe5160517d40b39003f552a9967879"
      }
     },
     "metadata": {}
    },
    {
     "output_type": "display_data",
     "data": {
      "text/plain": [
       "Tokenizing eval dataset:   0%|          | 0/190 [00:00<?, ? examples/s]"
      ],
      "application/vnd.jupyter.widget-view+json": {
       "version_major": 2,
       "version_minor": 0,
       "model_id": "57b7374814fe44fca0a49d22f70b763b"
      }
     },
     "metadata": {}
    },
    {
     "output_type": "display_data",
     "data": {
      "text/plain": [
       "Truncating eval dataset:   0%|          | 0/190 [00:00<?, ? examples/s]"
      ],
      "application/vnd.jupyter.widget-view+json": {
       "version_major": 2,
       "version_minor": 0,
       "model_id": "165653efc07b48cc9e272cd5e246b559"
      }
     },
     "metadata": {}
    },
    {
     "output_type": "stream",
     "name": "stderr",
     "text": [
      "`use_cache=True` is incompatible with gradient checkpointing. Setting `use_cache=False`.\n",
      "/usr/local/lib/python3.12/dist-packages/torch/_dynamo/eval_frame.py:929: UserWarning: torch.utils.checkpoint: the use_reentrant parameter should be passed explicitly. In version 2.5 we will raise an exception if use_reentrant is not passed. use_reentrant=False is recommended, but if you need to preserve the current default behavior, you can pass use_reentrant=True. Refer to docs for more details on the differences between the two variants.\n",
      "  return fn(*args, **kwargs)\n"
     ]
    },
    {
     "output_type": "display_data",
     "data": {
      "text/plain": [
       "<IPython.core.display.HTML object>"
      ],
      "text/html": [
       "\n",
       "    <div>\n",
       "      \n",
       "      <progress value='321' max='321' style='width:300px; height:20px; vertical-align: middle;'></progress>\n",
       "      [321/321 1:02:04, Epoch 3/3]\n",
       "    </div>\n",
       "    <table border=\"1\" class=\"dataframe\">\n",
       "  <thead>\n",
       " <tr style=\"text-align: left;\">\n",
       "      <th>Step</th>\n",
       "      <th>Training Loss</th>\n",
       "      <th>Validation Loss</th>\n",
       "    </tr>\n",
       "  </thead>\n",
       "  <tbody>\n",
       "    <tr>\n",
       "      <td>20</td>\n",
       "      <td>1.439100</td>\n",
       "      <td>1.290310</td>\n",
       "    </tr>\n",
       "    <tr>\n",
       "      <td>40</td>\n",
       "      <td>1.232400</td>\n",
       "      <td>1.185404</td>\n",
       "    </tr>\n",
       "    <tr>\n",
       "      <td>60</td>\n",
       "      <td>1.185800</td>\n",
       "      <td>1.125847</td>\n",
       "    </tr>\n",
       "    <tr>\n",
       "      <td>80</td>\n",
       "      <td>1.117400</td>\n",
       "      <td>1.086253</td>\n",
       "    </tr>\n",
       "    <tr>\n",
       "      <td>100</td>\n",
       "      <td>1.085000</td>\n",
       "      <td>1.056243</td>\n",
       "    </tr>\n",
       "    <tr>\n",
       "      <td>120</td>\n",
       "      <td>1.007800</td>\n",
       "      <td>1.039169</td>\n",
       "    </tr>\n",
       "    <tr>\n",
       "      <td>140</td>\n",
       "      <td>0.928300</td>\n",
       "      <td>1.025349</td>\n",
       "    </tr>\n",
       "    <tr>\n",
       "      <td>160</td>\n",
       "      <td>0.946200</td>\n",
       "      <td>1.008943</td>\n",
       "    </tr>\n",
       "    <tr>\n",
       "      <td>180</td>\n",
       "      <td>0.905800</td>\n",
       "      <td>0.985281</td>\n",
       "    </tr>\n",
       "    <tr>\n",
       "      <td>200</td>\n",
       "      <td>0.910500</td>\n",
       "      <td>0.969048</td>\n",
       "    </tr>\n",
       "    <tr>\n",
       "      <td>220</td>\n",
       "      <td>0.860900</td>\n",
       "      <td>0.973695</td>\n",
       "    </tr>\n",
       "    <tr>\n",
       "      <td>240</td>\n",
       "      <td>0.784200</td>\n",
       "      <td>0.970524</td>\n",
       "    </tr>\n",
       "    <tr>\n",
       "      <td>260</td>\n",
       "      <td>0.767600</td>\n",
       "      <td>0.963040</td>\n",
       "    </tr>\n",
       "    <tr>\n",
       "      <td>280</td>\n",
       "      <td>0.768300</td>\n",
       "      <td>0.959697</td>\n",
       "    </tr>\n",
       "    <tr>\n",
       "      <td>300</td>\n",
       "      <td>0.775400</td>\n",
       "      <td>0.958624</td>\n",
       "    </tr>\n",
       "    <tr>\n",
       "      <td>320</td>\n",
       "      <td>0.771100</td>\n",
       "      <td>0.958360</td>\n",
       "    </tr>\n",
       "  </tbody>\n",
       "</table><p>"
      ]
     },
     "metadata": {}
    },
    {
     "output_type": "stream",
     "name": "stdout",
     "text": [
      "Saving fine-tuned model to 'Mistral-7B-Instruct-german-level-tuner'...\n"
     ]
    },
    {
     "output_type": "display_data",
     "data": {
      "text/plain": [
       "Processing Files (0 / 0)                : |          |  0.00B /  0.00B            "
      ],
      "application/vnd.jupyter.widget-view+json": {
       "version_major": 2,
       "version_minor": 0,
       "model_id": "746e6bf4c26441638e9b790f8bd67999"
      }
     },
     "metadata": {}
    },
    {
     "output_type": "display_data",
     "data": {
      "text/plain": [
       "New Data Upload                         : |          |  0.00B /  0.00B            "
      ],
      "application/vnd.jupyter.widget-view+json": {
       "version_major": 2,
       "version_minor": 0,
       "model_id": "7fb9a92f699c4afab2e84dc9982873c6"
      }
     },
     "metadata": {}
    },
    {
     "output_type": "display_data",
     "data": {
      "text/plain": [
       "  ...erman-level-tuner/training_args.bin: 100%|##########| 6.16kB / 6.16kB            "
      ],
      "application/vnd.jupyter.widget-view+json": {
       "version_major": 2,
       "version_minor": 0,
       "model_id": "064bc926e0f74460911a2534a807d393"
      }
     },
     "metadata": {}
    },
    {
     "output_type": "display_data",
     "data": {
      "text/plain": [
       "  ...-german-level-tuner/tokenizer.model: 100%|##########|  587kB /  587kB            "
      ],
      "application/vnd.jupyter.widget-view+json": {
       "version_major": 2,
       "version_minor": 0,
       "model_id": "afc939cf16d04c9896e23381ee9563cc"
      }
     },
     "metadata": {}
    },
    {
     "output_type": "display_data",
     "data": {
      "text/plain": [
       "  ...vel-tuner/adapter_model.safetensors:   6%|6         | 41.9MB /  671MB            "
      ],
      "application/vnd.jupyter.widget-view+json": {
       "version_major": 2,
       "version_minor": 0,
       "model_id": "06fe53725ca64effac69689daf72c696"
      }
     },
     "metadata": {}
    },
    {
     "output_type": "stream",
     "name": "stderr",
     "text": [
      "No files have been modified since last commit. Skipping to prevent empty commit.\n",
      "WARNING:huggingface_hub.hf_api:No files have been modified since last commit. Skipping to prevent empty commit.\n"
     ]
    },
    {
     "output_type": "stream",
     "name": "stdout",
     "text": [
      "Model saved successfully.\n"
     ]
    }
   ]
  },
  {
   "cell_type": "markdown",
   "source": [
    "# 4. Results and Evaluation"
   ],
   "metadata": {
    "id": "FJDtauttQN8D"
   }
  },
  {
   "cell_type": "code",
   "source": [
    "# Plot training and validation loss\n",
    "# Extract the log history from the trainer\n",
    "log_history = trainer.state.log_history\n",
    "df = pd.DataFrame(log_history)\n",
    "\n",
    "# Separate training and evaluation logs\n",
    "train_logs = df[df['loss'].notna()].copy()\n",
    "eval_logs = df[df['eval_loss'].notna()].copy()\n",
    "\n",
    "# Plot the loss curves\n",
    "plt.figure(figsize=(10, 6))\n",
    "plt.plot(train_logs['step'], train_logs['loss'], label='Training Loss')\n",
    "plt.plot(eval_logs['step'], eval_logs['eval_loss'], label='Validation Loss')\n",
    "plt.title('Training and Validation Loss Curves', fontsize=16)\n",
    "plt.xlabel('Training Steps', fontsize=12)\n",
    "plt.ylabel('Loss', fontsize=12)\n",
    "plt.legend()\n",
    "plt.show()"
   ],
   "metadata": {
    "id": "4QUGuEnYQyNA",
    "colab": {
     "base_uri": "https://localhost:8080/",
     "height": 570
    },
    "outputId": "785232b1-dd95-42dd-9d4d-4959134d0397"
   },
   "execution_count": 18,
   "outputs": [
    {
     "output_type": "display_data",
     "data": {
      "text/plain": [
       "<Figure size 1000x600 with 1 Axes>"
      ],
      "image/png": "[encoded data removed]"
     },
     "metadata": {}
    }
   ]
  },
  {
   "cell_type": "code",
   "source": [
    "# Inference test\n",
    "# Authenticate to Huggingface\n",
    "#hf_token = userdata.get('hf_token')\n",
    "#login(token=hf_token)\n",
    "\n",
    "# Set model configuration\n",
    "base_model_id = \"mistralai/Mistral-7B-Instruct-v0.3\"  # Base model\n",
    "adapter_id = \"AlbertoB12/Mistral-7B-Instruct-german-level-tuner\"  # LoRA adapter on Huggingface\n",
    "\n",
    "# Configure quantization to save memory\n",
    "bnb_config = BitsAndBytesConfig(\n",
    "    load_in_4bit=True,\n",
    "    bnb_4bit_use_double_quant=True,\n",
    "    bnb_4bit_quant_type=\"nf4\",\n",
    "    bnb_4bit_compute_dtype=torch.float16\n",
    ")\n",
    "\n",
    "# Load tokenizer and base model\n",
    "tokenizer = AutoTokenizer.from_pretrained(base_model_id)\n",
    "# Load the base model with the quantization\n",
    "base_model = AutoModelForCausalLM.from_pretrained(\n",
    "    base_model_id,\n",
    "    quantization_config=bnb_config,\n",
    "    device_map=\"auto\",  # Use GPU if available\n",
    "    torch_dtype=torch.float16,\n",
    "    low_cpu_mem_usage=True,\n",
    "    trust_remote_code=True\n",
    ")\n",
    "\n",
    "# Apply LoRA adapter in the base model\n",
    "model = PeftModel.from_pretrained(base_model, adapter_id)\n",
    "\n",
    "# Create the prompt\n",
    "source_level = \"C1\"\n",
    "target_level = \"B1\"\n",
    "source_text = \"Der Krieg stellt stets eine tiefgreifende Zäsur für Gesellschaften dar, da er nicht nur Menschenleben kostet, sondern auch das Vertrauen in politische und soziale Strukturen erschüttert. Historiker betonen immer wieder, dass Konflikte selten aus einem einzigen Grund entstehen, sondern meist das Ergebnis komplexer ökonomischer, ideologischer und machtpolitischer Interessen sind. Besonders verheerend wirken sich moderne Kriege auf die Zivilbevölkerung aus, die durch Vertreibung, Hunger und Traumata nachhaltig gezeichnet wird. Trotz internationaler Abkommen und Institutionen gelingt es nur selten, bewaffnete Auseinandersetzungen rechtzeitig zu verhindern oder dauerhaft zu beenden. Umso dringlicher stellt sich die Frage, wie globale Zusammenarbeit gestärkt werden kann, um künftige Generationen vor ähnlichen Katastrophen zu bewahren.\"\n",
    "\n",
    "prompt = f\"\"\"### Instruction:\n",
    "Schreibe den folgenden deutschen Text von seinem ursprünglichen GER-Niveau ({source_level}) auf das Zielniveau ({target_level}) um.\n",
    "\n",
    "### Input:\n",
    "{source_text}\n",
    "\n",
    "### Output:\n",
    "\"\"\"\n",
    "\n",
    "# Generate response\n",
    "input_ids = tokenizer(prompt, return_tensors=\"pt\", truncation=True).input_ids.cuda()\n",
    "outputs = model.generate(\n",
    "    input_ids=input_ids,\n",
    "    max_new_tokens=10000,\n",
    "    do_sample=True,\n",
    "    temperature=0.7,\n",
    "    top_k=50,\n",
    "    top_p=0.95\n",
    ")\n",
    "\n",
    "# Decode and print the result\n",
    "generated_text = tokenizer.decode(outputs[0], skip_special_tokens=True)\n",
    "# Split output to get only the new generated part, not the prompt\n",
    "output = generated_text.split(\"### Output:\")[1].strip()\n",
    "explanation = generated_text.split(\"### Explanation:\")[1].strip()\n",
    "\n",
    "# Output result\n",
    "print(f\"\\nInput text:\\n{source_text}\")\n",
    "print(\"\\nModel output:\")\n",
    "print(output)\n",
    "print(\"\\nModel explanation:\")\n",
    "print(explanation)"
   ],
   "metadata": {
    "colab": {
     "base_uri": "https://localhost:8080/",
     "height": 225,
     "referenced_widgets": [
      "8afd421b25e5411e9a2f4de571744251",
      "70be345e799b47a8bfb438373f1d0ba1",
      "4e1ba45660e04f199118b809ae58d274",
      "e7501877387b45a996e211008ae9fc7e",
      "9b755a99bca24e1eb2971fd2df19e8e4",
      "cb80467f09d7442481b45f3fe3032c17",
      "ae476ff864c34ee99af18cca687dc6f7",
      "ee962784c6104389b325ffb4cb543b98",
      "5924661e49fb4268b8ea19f953e18b69",
      "ad0409e8cde645fa87cbbe9850b9ecc9",
      "4ba6edd258744f05a9833b26c9f1072d"
     ]
    },
    "id": "vLPUtUyLAaDX",
    "outputId": "69f151cd-2667-4015-98de-fd63372bdd94"
   },
   "execution_count": 24,
   "outputs": [
    {
     "output_type": "display_data",
     "data": {
      "text/plain": [
       "Loading checkpoint shards:   0%|          | 0/3 [00:00<?, ?it/s]"
      ],
      "application/vnd.jupyter.widget-view+json": {
       "version_major": 2,
       "version_minor": 0,
       "model_id": "8afd421b25e5411e9a2f4de571744251"
      }
     },
     "metadata": {}
    },
    {
     "output_type": "stream",
     "name": "stderr",
     "text": [
      "Asking to truncate to max_length but no maximum length is provided and the model has no predefined maximum length. Default to no truncation.\n",
      "The attention mask and the pad token id were not set. As a consequence, you may observe unexpected behavior. Please pass your input's `attention_mask` to obtain reliable results.\n",
      "Setting `pad_token_id` to `eos_token_id`:2 for open-end generation.\n"
     ]
    },
    {
     "output_type": "stream",
     "name": "stdout",
     "text": [
      "\n",
      "Input text:\n",
      "Der Krieg stellt stets eine tiefgreifende Zäsur für Gesellschaften dar, da er nicht nur Menschenleben kostet, sondern auch das Vertrauen in politische und soziale Strukturen erschüttert. Historiker betonen immer wieder, dass Konflikte selten aus einem einzigen Grund entstehen, sondern meist das Ergebnis komplexer ökonomischer, ideologischer und machtpolitischer Interessen sind. Besonders verheerend wirken sich moderne Kriege auf die Zivilbevölkerung aus, die durch Vertreibung, Hunger und Traumata nachhaltig gezeichnet wird. Trotz internationaler Abkommen und Institutionen gelingt es nur selten, bewaffnete Auseinandersetzungen rechtzeitig zu verhindern oder dauerhaft zu beenden. Umso dringlicher stellt sich die Frage, wie globale Zusammenarbeit gestärkt werden kann, um künftige Generationen vor ähnlichen Katastrophen zu bewahren.\n",
      "\n",
      "Model output:\n",
      "Kriege sind immer eine tiefe Veränderung für Gesellschaften, denn sie kosten Menschenleben und beschädigen das Vertrauen in politische und soziale Strukturen. Historiker betonen immer wieder, dass Konflikte selten aus einem einzigen Grund entstehen, sondern meist das Ergebnis komplexer ökonomischer, ideologischer und machtpolitischer Interessen sind. Besonders schlimm sind moderne Kriege für die Zivilbevölkerung, die durch Vertreibung, Hunger und Traumata nachhaltig beeinflusst wird. Trotz internationaler Abkommen und Institutionen ist es nur selten möglich, bewaffnete Auseinandersetzungen rechtzeitig zu verhindern oder dauerhaft zu beenden. Es ist daher dringend notwendig, die globale Zusammenarbeit zu stärken, um künftigen Generationen vor ähnlichen Katastrophen zu schützen.\n"
     ]
    }
   ]
  }
 ]
}